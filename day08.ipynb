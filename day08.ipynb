{
 "cells": [
  {
   "cell_type": "code",
   "execution_count": 7,
   "metadata": {},
   "outputs": [
    {
     "name": "stdout",
     "output_type": "stream",
     "text": [
      "('ZZZ', 12169)\n"
     ]
    }
   ],
   "source": [
    "from functools import reduce\n",
    "from re import findall\n",
    "from itertools import cycle\n",
    "\n",
    "file_path = './inputs/day08.txt'\n",
    "\n",
    "instructions, _, *lines = open(file_path, \"r\").readlines()\n",
    "instructions_dict = dict((key, (node1, node2)) for (key, node1, node2) in map(lambda line: findall(r\"[A-Z]+\", line), lines))                    \n",
    "\n",
    "def map_instruction(position, instruction):\n",
    "    current_options = instructions_dict[position]\n",
    "    return current_options[1] if instruction == 'R' else current_options[0]\n",
    "\n",
    "def travel(stop, position = 'AAA'):\n",
    "    for count, instruction in enumerate(cycle(instructions.strip()), 1):\n",
    "        position = map_instruction(position, instruction)\n",
    "        if (stop(position)):\n",
    "            return (position, count)\n",
    "\n",
    "print(travel(stop=lambda x: x == 'ZZZ'))"
   ]
  },
  {
   "cell_type": "code",
   "execution_count": 10,
   "metadata": {},
   "outputs": [
    {
     "name": "stdout",
     "output_type": "stream",
     "text": [
      "12030780859469\n",
      "True\n"
     ]
    }
   ],
   "source": [
    "from math import lcm\n",
    "\n",
    "starting_positions = {}\n",
    "\n",
    "for position in instructions_dict:\n",
    "    if (position.endswith('A')):\n",
    "        starting_positions[position] = position\n",
    "        \n",
    "\n",
    "finished = False\n",
    "result = (starting_positions, 0)\n",
    "\n",
    "counts = []\n",
    "\n",
    "for starting_position in starting_positions.keys():\n",
    "    result = travel(stop=lambda x: x.endswith('Z'), position=starting_position)\n",
    "    counts.append(result[1])\n",
    "\n",
    "print(lcm(*counts))\n",
    "\n"
   ]
  }
 ],
 "metadata": {
  "kernelspec": {
   "display_name": "Python 3",
   "language": "python",
   "name": "python3"
  },
  "language_info": {
   "codemirror_mode": {
    "name": "ipython",
    "version": 3
   },
   "file_extension": ".py",
   "mimetype": "text/x-python",
   "name": "python",
   "nbconvert_exporter": "python",
   "pygments_lexer": "ipython3",
   "version": "3.9.6"
  }
 },
 "nbformat": 4,
 "nbformat_minor": 2
}
